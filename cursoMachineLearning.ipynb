{
  "nbformat": 4,
  "nbformat_minor": 0,
  "metadata": {
    "accelerator": "GPU",
    "colab": {
      "name": "cursoMachineLearning",
      "provenance": [],
      "collapsed_sections": [],
      "include_colab_link": true
    },
    "kernelspec": {
      "display_name": "Python 3",
      "name": "python3"
    }
  },
  "cells": [
    {
      "cell_type": "markdown",
      "metadata": {
        "id": "view-in-github",
        "colab_type": "text"
      },
      "source": [
        "<a href=\"https://colab.research.google.com/github/emandrade/emandrade.github.io/blob/main/cursoMachineLearning.ipynb\" target=\"_parent\"><img src=\"https://colab.research.google.com/assets/colab-badge.svg\" alt=\"Open In Colab\"/></a>"
      ]
    },
    {
      "cell_type": "markdown",
      "metadata": {
        "id": "HnKx50tv5aZD"
      },
      "source": [
        "##### Copyright 2018 The TensorFlow Authors."
      ]
    },
    {
      "cell_type": "code",
      "metadata": {
        "cellView": "form",
        "id": "IwtS_OXU5cWG"
      },
      "source": [
        "#@title Licensed under the Apache License, Version 2.0 (the \"License\");\n",
        "# you may not use this file except in compliance with the License.\n",
        "# You may obtain a copy of the License at\n",
        "#\n",
        "# https://www.apache.org/licenses/LICENSE-2.0\n",
        "#\n",
        "# Unless required by applicable law or agreed to in writing, software\n",
        "# distributed under the License is distributed on an \"AS IS\" BASIS,\n",
        "# WITHOUT WARRANTIES OR CONDITIONS OF ANY KIND, either express or implied.\n",
        "# See the License for the specific language governing permissions and\n",
        "# limitations under the License."
      ],
      "execution_count": null,
      "outputs": []
    },
    {
      "cell_type": "markdown",
      "metadata": {
        "id": "YHI3vyhv5p85"
      },
      "source": [
        "# Entrenando el primer modelo"
      ]
    },
    {
      "cell_type": "markdown",
      "metadata": {
        "id": "_wJ2E7jV5tN5"
      },
      "source": [
        "<table class=\"tfo-notebook-buttons\" align=\"left\">\n",
        "  <td>\n",
        "    <a target=\"_blank\" href=\"https://colab.research.google.com/github/tensorflow/examples/courses/udacity_intro_to_tensorflow_for_deep_learning/l02c01_celsius_to_fahrenheit.ipynb\"><img src=\"https://www.tensorflow.org/images/colab_logo_32px.png\" />Run in Google Colab</a>\n",
        "  </td>\n",
        "  <td>\n",
        "    <a target=\"_blank\" href=\"https://github.com/tensorflow/examples/courses/udacity_intro_to_tensorflow_for_deep_learning/l02c01_celsius_to_fahrenheit.ipynb\"><img src=\"https://www.tensorflow.org/images/GitHub-Mark-32px.png\" />View source on GitHub</a>\n",
        "  </td>\n",
        "</table>"
      ]
    },
    {
      "cell_type": "markdown",
      "metadata": {
        "id": "F8YVA_634OFk"
      },
      "source": [
        "¡Bienvenido a este Colab donde entrenará su primer modelo de aprendizaje automático!\n",
        "\n",
        "Intentaremos mantener las cosas simples aquí y solo presentaremos conceptos básicos. Más adelante, Colabs cubrirá problemas más avanzados.\n",
        "\n",
        "El problema que resolveremos es convertir de Celsius a Fahrenheit, donde la fórmula aproximada es:\n",
        "\n",
        "$$ f = c \\times 1.8 + 32 $$\n",
        "\n",
        "\n",
        "Por supuesto, sería bastante simple crear una función Python convencional que realice directamente este cálculo, pero eso no sería aprendizaje automático.\n",
        "\n",
        "\n",
        "En su lugar, le daremos a TensorFlow algunos valores Celsius de muestra (0, 8, 15, 22, 38) y sus valores Fahrenheit correspondientes (32, 46, 59, 72, 100).\n",
        "Luego, entrenaremos un modelo que descubra la fórmula anterior a través del proceso de capacitación."
      ]
    },
    {
      "cell_type": "code",
      "metadata": {
        "id": "oPty7pm30kUu"
      },
      "source": [
        ""
      ],
      "execution_count": null,
      "outputs": []
    },
    {
      "cell_type": "markdown",
      "metadata": {
        "id": "tUh4bu4K0nTj"
      },
      "source": [
        ""
      ]
    },
    {
      "cell_type": "markdown",
      "metadata": {
        "id": "fA93WUy1zzWf"
      },
      "source": [
        "## Importando dependencias\n",
        "\n",
        "Primero, importe TensorFlow. Aquí, lo llamamos `tf` para facilitar su uso. También le decimos que solo muestre errores.\n",
        "\n",
        "A continuación, importe [NumPy] (http://www.numpy.org/) como `np`. Numpy nos ayuda a representar nuestros datos como listas de alto rendimiento."
      ]
    },
    {
      "cell_type": "code",
      "metadata": {
        "id": "X9uIpOS2zx7k"
      },
      "source": [
        "from __future__ import absolute_import, division, print_function\n",
        "import tensorflow as tf\n",
        "#tf.logging.set_verbosity(tf.logging.ERROR)\n",
        "\n",
        "import numpy as np"
      ],
      "execution_count": 1,
      "outputs": []
    },
    {
      "cell_type": "markdown",
      "metadata": {
        "id": "AC3EQFi20buB"
      },
      "source": [
        "## Seteando training data\n",
        "\n",
        "Como vimos antes, el aprendizaje automático supervisado se trata de descubrir un algoritmo dado un conjunto de entradas y salidas. Dado que la tarea en este Codelab es crear un modelo que pueda dar la temperatura en Fahrenhet cuando se dan los grados en Celsius, creamos dos listas `celsius_q` y` fahrenheit_a` que podemos usar para entrenar nuestro modelo."
      ]
    },
    {
      "cell_type": "code",
      "metadata": {
        "id": "gg4pn6aI1vms",
        "colab": {
          "base_uri": "https://localhost:8080/"
        },
        "outputId": "f93a096f-b47e-4da8-b2ae-4968f87a3646"
      },
      "source": [
        "celsius_q    = np.array([-40, -10,  0,  8, 15, 22,  38],  dtype=float)\n",
        "fahrenheit_a = np.array([-40,  14, 32, 46, 59, 72, 100],  dtype=float)\n",
        "\n",
        "for i,c in enumerate(celsius_q):\n",
        "  print(\"{} degrees Celsius = {} degrees Fahrenhet\".format(c, fahrenheit_a[i]))"
      ],
      "execution_count": 2,
      "outputs": [
        {
          "output_type": "stream",
          "name": "stdout",
          "text": [
            "-40.0 degrees Celsius = -40.0 degrees Fahrenhet\n",
            "-10.0 degrees Celsius = 14.0 degrees Fahrenhet\n",
            "0.0 degrees Celsius = 32.0 degrees Fahrenhet\n",
            "8.0 degrees Celsius = 46.0 degrees Fahrenhet\n",
            "15.0 degrees Celsius = 59.0 degrees Fahrenhet\n",
            "22.0 degrees Celsius = 72.0 degrees Fahrenhet\n",
            "38.0 degrees Celsius = 100.0 degrees Fahrenhet\n"
          ]
        }
      ]
    },
    {
      "cell_type": "markdown",
      "metadata": {
        "id": "wwJGmDrQ0EoB"
      },
      "source": [
        "### Alguna terminología de aprendizaje automático\n",
        "\n",
        "  - ** Feature ** - La (s) entrada (s) a nuestro modelo. En este caso, un solo valor: los grados en Celsius.\n",
        "\n",
        "  - ** Label **: la salida que predice nuestro modelo. En este caso, un solo valor: los grados en Fahrenhet.\n",
        " \n",
        "  - ** Ejemplo **: un par de entradas / salidas utilizadas durante el entrenamiento. En nuestro caso, un par de valores de `celsius_q` y` fahrenhet_a` en un índice específico, como `(22,72)`.\n",
        "\n"
      ]
    },
    {
      "cell_type": "markdown",
      "metadata": {
        "id": "VM7_9Klvq7MO"
      },
      "source": [
        "## Crea el modelo\n",
        "\n",
        "A continuación, cree el modelo. Usaremos el modelo más simple posible que podamos, una red densa. Dado que el problema es sencillo, esta red requerirá solo una capa, con una sola neurona.\n",
        "\n",
        "### Construye una capa\n",
        "\n",
        "Llamaremos a la capa `l0` y la crearemos instanciando` tf.keras.layers.Dense` con la siguiente configuración:\n",
        "\n",
        "* `input_shape = [1]` - Esto especifica que la entrada a esta capa es un valor único. Es decir, la forma es una matriz unidimensional con un miembro. Dado que esta es la primera (y única) capa, esa forma de entrada es la forma de entrada de todo el modelo. El valor único es un número de punto flotante, que representa grados centígrados.\n",
        "\n",
        "* `unidades = 1` - Esto especifica el número de neuronas en la capa. El número de neuronas define cuántas variables internas tiene la capa para intentar aprender a resolver el problema (más adelante). Dado que esta es la capa final, también es el tamaño de la salida del modelo: un único valor flotante que representa grados Fahrenheit. (En una red de varias capas, el tamaño y la forma de la última tendrían que coincidir con la `input_shape` de la siguiente capa)."
      ]
    },
    {
      "cell_type": "code",
      "metadata": {
        "id": "pRllo2HLfXiu"
      },
      "source": [
        "l0 = tf.keras.layers.Dense(units=1, input_shape=[1])  "
      ],
      "execution_count": 4,
      "outputs": []
    },
    {
      "cell_type": "markdown",
      "metadata": {
        "id": "_F00_J9duLBD"
      },
      "source": [
        "### Ensamblar capas en el modelo\n",
        "\n",
        "Una vez que se definen las capas, deben ensamblarse en un modelo. La definición del modelo secuencial toma una lista de capas como argumento, especificando el orden de cálculo desde la entrada hasta la salida.\n",
        "\n",
        "Este modelo tiene una sola capa, l0."
      ]
    },
    {
      "cell_type": "code",
      "metadata": {
        "id": "cSp-GpLSuMRq"
      },
      "source": [
        "model = tf.keras.Sequential([l0])"
      ],
      "execution_count": 5,
      "outputs": []
    },
    {
      "cell_type": "code",
      "metadata": {
        "id": "4bDkFe191k13"
      },
      "source": [
        ""
      ],
      "execution_count": 5,
      "outputs": []
    },
    {
      "cell_type": "markdown",
      "metadata": {
        "id": "t7pfHfWxust0"
      },
      "source": [
        "**Nota**\n",
        "\n",
        "A menudo verá las capas definidas dentro de la definición del modelo, en lugar de hacerlo de antemano:\n",
        "\n",
        "```python\n",
        "model = tf.keras.Sequential([\n",
        "  tf.keras.layers.Dense(units=1, input_shape=[1])\n",
        "])\n",
        "```"
      ]
    },
    {
      "cell_type": "markdown",
      "metadata": {
        "id": "kiZG7uhm8qCF"
      },
      "source": [
        "## Compila el modelo, con funciones de pérdida y optimizador\n",
        "\n",
        "Antes del entrenamiento, se debe compilar el modelo. Cuando se compila para el entrenamiento, se proporciona el modelo:\n",
        "\n",
        "-  **Loss function** : una forma de medir qué tan lejos están las predicciones del resultado deseado. (La diferencia medida se llama \"pérdida\".\n",
        "\n",
        "- **Optimizer function**  - Una forma de ajustar los valores internos para reducir la pérdida."
      ]
    },
    {
      "cell_type": "code",
      "metadata": {
        "id": "m8YQN1H41L-Y"
      },
      "source": [
        "model.compile(loss='mean_squared_error',\n",
        "              optimizer=tf.keras.optimizers.Adam(0.1))"
      ],
      "execution_count": 6,
      "outputs": []
    },
    {
      "cell_type": "markdown",
      "metadata": {
        "id": "17M3Pqv4P52R"
      },
      "source": [
        "Estos se utilizan durante el entrenamiento (`model.fit ()`, a continuación) para calcular primero la pérdida en cada punto y luego mejorarla. De hecho, el acto de calcular la pérdida actual de un modelo y luego mejorarlo es precisamente lo que es el entrenamiento.\n",
        "\n",
        "Durante el entrenamiento, la función del optimizador se utiliza para calcular los ajustes a las variables internas del modelo. El objetivo es ajustar las variables internas hasta que el modelo (que en realidad es una función matemática) refleje la ecuación real para convertir grados Celsius a Fahrenheit.\n",
        "\n",
        "TensorFlow usa análisis numérico para realizar este ajuste, y toda esta complejidad está oculta para usted, por lo que no entraremos en detalles aquí. Lo que es útil saber sobre estos parámetros son:\n",
        "\n",
        "La función de pérdida ([error cuadrático medio] (https://en.wikipedia.org/wiki/Mean_squared_error)) y el optimizador ([Adam] (https://machinelearningmastery.com/adam-optimization-algorithm-for-deep -learning /)) que se utilizan aquí son estándar para modelos simples como este, pero hay muchos otros disponibles. No es importante saber cómo funcionan estas funciones específicas en este momento.\n",
        "\n",
        "Una parte del Optimizador en la que quizás deba pensar cuando cree sus propios modelos es la tasa de aprendizaje (\"0.1\" en el código anterior). Este es el tamaño de paso que se toma al ajustar los valores en el modelo. Si el valor es demasiado pequeño, se necesitarán demasiadas iteraciones para entrenar el modelo. Demasiado grande y la precisión disminuye. Encontrar un buen valor a menudo implica algo de prueba y error, pero el rango suele estar entre 0,001 (predeterminado) y 0,1"
      ]
    },
    {
      "cell_type": "markdown",
      "metadata": {
        "id": "c-Jk4dG91dvD"
      },
      "source": [
        "## Entrenando al modelo\n",
        "\n",
        "Entrene el modelo llamando al método `fit`.\n",
        "\n",
        "Durante el entrenamiento, el modelo toma valores en grados Celsius, realiza un cálculo usando las variables internas actuales (llamadas \"pesos\") y genera valores que deben ser el equivalente en Fahrenheit. Dado que los pesos se establecen inicialmente de forma aleatoria, la salida no se acercará al valor correcto. La diferencia entre la salida real y la salida deseada se calcula utilizando la función de pérdida, y la función del optimizador indica cómo se deben ajustar los pesos.\n",
        "\n",
        "Este ciclo de calcular, comparar y ajustar se controla mediante el método de \"ajuste\". El primer argumento son las entradas, el segundo argumento son las salidas deseadas. El argumento `epochs` especifica cuántas veces se debe ejecutar este ciclo, y el argumento` verbose` controla la cantidad de salida que produce el método."
      ]
    },
    {
      "cell_type": "code",
      "metadata": {
        "colab": {
          "base_uri": "https://localhost:8080/"
        },
        "id": "lpRrl7WK10Pq",
        "outputId": "ca766890-49ee-405c-ce07-5428ad3cd5c7"
      },
      "source": [
        "history = model.fit(celsius_q, fahrenheit_a, epochs=700, verbose=False)\n",
        "print(\"Finished training the model\")"
      ],
      "execution_count": 7,
      "outputs": [
        {
          "output_type": "stream",
          "name": "stdout",
          "text": [
            "Finished training the model\n"
          ]
        }
      ]
    },
    {
      "cell_type": "markdown",
      "metadata": {
        "id": "0-QsNCLD4MJZ"
      },
      "source": [
        "## Mostrar estadísticas de entrenamiento\n",
        "\n",
        "El método `fit` devuelve un objeto histórico. Podemos usar este objeto para trazar cómo disminuye la pérdida de nuestro modelo después de cada época de entrenamiento. Una pérdida alta significa que los grados Fahrenheit que predice el modelo están lejos del valor correspondiente en `fahrenheit_a`.\n",
        "\n",
        "Usaremos [Matplotlib] (https://matplotlib.org/) para visualizar esto (podría usar otra herramienta). Como puede ver, nuestro modelo mejora muy rápidamente al principio, y luego tiene una mejora constante y lenta hasta que está muy cerca de ser \"perfecto\" hacia el final.\n",
        "\n"
      ]
    },
    {
      "cell_type": "code",
      "metadata": {
        "colab": {
          "base_uri": "https://localhost:8080/",
          "height": 297
        },
        "id": "IeK6BzfbdO6_",
        "outputId": "80ae7741-43b9-49a2-a4f2-d7081555363c"
      },
      "source": [
        "import matplotlib.pyplot as plt\n",
        "plt.xlabel('Epoch Number')\n",
        "plt.ylabel(\"Loss Magnitude\")\n",
        "plt.plot(history.history['loss'])"
      ],
      "execution_count": 8,
      "outputs": [
        {
          "output_type": "execute_result",
          "data": {
            "text/plain": [
              "[<matplotlib.lines.Line2D at 0x7f0f8f228390>]"
            ]
          },
          "metadata": {},
          "execution_count": 8
        },
        {
          "output_type": "display_data",
          "data": {
            "image/png": "[encoded data removed]",
            "text/plain": [
              "<Figure size 432x288 with 1 Axes>"
            ]
          },
          "metadata": {
            "needs_background": "light"
          }
        }
      ]
    },
    {
      "cell_type": "markdown",
      "metadata": {
        "id": "LtQGDMob5LOD"
      },
      "source": [
        "## Usa el modelo para predecir valores\n",
        "\n",
        "Ahora tienes un modelo que ha sido entrenado para aprender la relación entre `celsius_q` y` fahrenheit_a`. Puede usar el método de predicción para que calcule los grados Fahrenheit para grados Celsius previamente desconocidos.\n",
        "\n",
        "Entonces, por ejemplo, si el valor Celsius es 200, ¿cuál crees que será el resultado Fahrenheit? Adivine antes de ejecutar este código."
      ]
    },
    {
      "cell_type": "code",
      "metadata": {
        "colab": {
          "base_uri": "https://localhost:8080/"
        },
        "id": "oxNzL4lS2Gui",
        "outputId": "7d8b9e39-121f-4fde-b13b-869ffc3129aa"
      },
      "source": [
        "print(model.predict([85]))"
      ],
      "execution_count": 14,
      "outputs": [
        {
          "output_type": "stream",
          "name": "stdout",
          "text": [
            "[[184.62807]]\n"
          ]
        }
      ]
    },
    {
      "cell_type": "markdown",
      "metadata": {
        "id": "jApk6tZ1fBg1"
      },
      "source": [
        "La respuesta correcta es $ 100 \\ times 1.8 + 32 = 212 $, por lo que nuestro modelo está funcionando muy bien.\n",
        "\n",
        "### Para revisar\n",
        "\n",
        "\n",
        "* Creamos un modelo con una capa densa\n",
        "* Lo entrenamos con 3500 ejemplos (7 pares, más de 500 épocas).\n",
        "\n",
        "Nuestro modelo sintonizó las variables (pesos) en la capa Densa hasta que pudo devolver el valor Fahrenheit correcto para cualquier valor Celsius. (Recuerde, 100 grados Celsius no formaban parte de nuestros datos de entrenamiento).\n",
        "\n",
        "\n"
      ]
    },
    {
      "cell_type": "markdown",
      "metadata": {
        "id": "zRrOky5gm20Z"
      },
      "source": [
        "## Mirando los pesos de las capas\n",
        "\n",
        "Finalmente, imprimamos las variables internas de la capa Densa."
      ]
    },
    {
      "cell_type": "code",
      "metadata": {
        "colab": {
          "base_uri": "https://localhost:8080/"
        },
        "id": "kmIkVdkbnZJI",
        "outputId": "89890b4c-4848-408e-9c02-91c50ea6baf2"
      },
      "source": [
        "print(\"These are the layer variables: {}\".format(l0.get_weights()))"
      ],
      "execution_count": 15,
      "outputs": [
        {
          "output_type": "stream",
          "name": "stdout",
          "text": [
            "These are the layer variables: [array([[1.8024863]], dtype=float32), array([31.416733], dtype=float32)]\n"
          ]
        }
      ]
    },
    {
      "cell_type": "markdown",
      "metadata": {
        "id": "RSplSnMvnWC-"
      },
      "source": [
        "La primera variable está cerca de ~ 1.8 y la segunda de ~ 32. Estos valores (1.8 y 32) son las variables reales en la fórmula de conversión real.\n",
        "\n",
        "Esto está muy cerca de los valores de la fórmula de conversión. Explicaremos esto en un próximo video donde mostraremos cómo funciona una capa Densa, pero para una sola neurona con una sola entrada y una sola salida, la matemática interna se ve igual que [la ecuación de una línea] (https: / /en.wikipedia.org/wiki/Linear_equation#Slope%E2%80%93intercept_form), $ y = mx + b $, que tiene la misma forma que la ecuación de conversión, $ f = 1.8c + 32 $.\n",
        "\n",
        "Dado que la forma es la misma, las variables deben converger en los valores estándar de 1.8 y 32, que es exactamente lo que sucedió.\n",
        "\n",
        "Con neuronas adicionales, entradas adicionales y salidas adicionales, la fórmula se vuelve mucho más compleja, pero la idea es la misma.\n",
        "\n",
        "### Un pequeño experimento\n",
        "\n",
        "Solo por diversión, ¿qué pasaría si creáramos más capas densas con diferentes unidades, que por lo tanto también tiene más variables?"
      ]
    },
    {
      "cell_type": "code",
      "metadata": {
        "id": "Y2zTA-rDS5Xk",
        "colab": {
          "base_uri": "https://localhost:8080/"
        },
        "outputId": "bd7e4ce1-977d-4d8f-adf3-2510616a9d9c"
      },
      "source": [
        "l0 = tf.keras.layers.Dense(units=5, input_shape=[1])  \n",
        "l1 = tf.keras.layers.Dense(units=5)  \n",
        "l2 = tf.keras.layers.Dense(units=4)  \n",
        "l3 = tf.keras.layers.Dense(units=1)  \n",
        "model = tf.keras.Sequential([l0, l1, l2, l3])\n",
        "model.compile(loss='mean_squared_error', optimizer=tf.keras.optimizers.Adam(0.1))\n",
        "model.fit(celsius_q, fahrenheit_a, epochs=5000, verbose=False)\n",
        "print(\"Finished training the model\")\n",
        "print(model.predict([100]))\n",
        "print(\"Model predicts that 100 degrees Celsius is: {} degrees Fahrenheit\".format(model.predict([100.0])))\n",
        "print(\"These are the l0 variables: {}\".format(l0.get_weights()))\n",
        "print(\"These are the l1 variables: {}\".format(l1.get_weights()))\n",
        "print(\"These are the l2 variables: {}\".format(l2.get_weights()))"
      ],
      "execution_count": 17,
      "outputs": [
        {
          "output_type": "stream",
          "name": "stdout",
          "text": [
            "Finished training the model\n",
            "[[211.74197]]\n",
            "WARNING:tensorflow:5 out of the last 10 calls to <function Model.make_predict_function.<locals>.predict_function at 0x7f0f8faac440> triggered tf.function retracing. Tracing is expensive and the excessive number of tracings could be due to (1) creating @tf.function repeatedly in a loop, (2) passing tensors with different shapes, (3) passing Python objects instead of tensors. For (1), please define your @tf.function outside of the loop. For (2), @tf.function has experimental_relax_shapes=True option that relaxes argument shapes that can avoid unnecessary retracing. For (3), please refer to https://www.tensorflow.org/guide/function#controlling_retracing and https://www.tensorflow.org/api_docs/python/tf/function for  more details.\n",
            "Model predicts that 100 degrees Celsius is: [[211.74197]] degrees Fahrenheit\n",
            "These are the l0 variables: [array([[-0.45894635, -0.728719  ,  0.14861837, -0.03323628, -0.01459386]],\n",
            "      dtype=float32), array([-3.8724933 , -4.441646  ,  3.617026  ,  2.769607  ,  0.62603223],\n",
            "      dtype=float32)]\n",
            "These are the l1 variables: [array([[-0.5064544 ,  0.8060104 ,  0.3114273 ,  0.13638844,  0.15663293],\n",
            "       [ 0.23170054,  1.1305081 ,  0.02420565, -0.05189027, -0.1191116 ],\n",
            "       [-0.5525498 , -0.5424865 ,  0.5395022 , -0.1978792 , -0.3311546 ],\n",
            "       [-0.37804684, -0.10396834, -0.07891478, -0.14643657, -0.39169148],\n",
            "       [ 0.03906095,  0.00941649,  0.11561742,  0.31984556,  0.03011456]],\n",
            "      dtype=float32), array([ 3.6560392 , -4.6987133 , -0.01976104,  4.0270495 ,  3.532205  ],\n",
            "      dtype=float32)]\n",
            "These are the l2 variables: [array([[-0.14510238,  0.19326416, -0.5259852 , -0.09512248],\n",
            "       [ 0.03832814, -0.05527312, -0.08234589,  1.3504279 ],\n",
            "       [-0.55709386,  1.4470111 ,  0.16574052,  0.1800363 ],\n",
            "       [-0.22839381, -0.67454046,  0.11366019, -0.02478543],\n",
            "       [-0.80436015,  0.11015882,  0.6248318 ,  0.07825442]],\n",
            "      dtype=float32), array([-3.9429271 ,  0.67539775,  2.8400981 , -4.5370765 ], dtype=float32)]\n"
          ]
        }
      ]
    },
    {
      "cell_type": "markdown",
      "metadata": {
        "id": "xrpFFlgYhCty"
      },
      "source": [
        "Como puede ver, este modelo también puede predecir muy bien el valor Fahrenheit correspondiente. Pero cuando observa las variables (pesos) en las capas l0 y l1, no se acercan ni siquiera a ~ 1.8 y ~ 32. La complejidad adicional oculta la forma \"simple\" de la ecuación de conversión."
      ]
    },
    {
      "cell_type": "markdown",
      "metadata": {
        "id": "f7fNap5q5fs8"
      },
      "source": [
        "#Modelos preentrenados y tfjs (ahora si la vida es más sencilla)\n",
        "\n",
        "En los ejemplos que vimos de piedra, papel o tijera o en el ejemplo de NLU con NLP no desarrollamos redes neuronales desde 0 sino que lo que hicimos fué utilizar transfer learning o modelos preentrenados. \n",
        "Como vimos en el ejemplo de más arriba, donde usamos redes neuronales en lenguaje Python, se emplea mucho tiempo en llegar a los pesos necesarios para tener una salida que haga mínimo el error, esto implica que si queremos usar AI en celulares o máquinas que no tienen mucha capacidad de procesamiento vamos a invertir mucho tiempo en lograr la convergencia del algoritmo. Para solucionar este problema (y para hacer nuestra vida más sencilla) exsiten lo modelos preentrenados. En dichos modelos los pesos de la red neuronal se cargan de una base de datos y no tenemos que realizar el proceso de entranamiento, además podemos usar javascript que es un lenguaje que se interpreta en cualquier navegador e inclusive en celulares, la pricipal ventaja de esto último es la posibilidad de obtener modelos personalizados con un entrenamiento mínimo y con una muy baja capacidad de procesarmiento.\n"
      ]
    },
    {
      "cell_type": "markdown",
      "metadata": {
        "id": "AwgHIXrCRCAk"
      },
      "source": [
        "Dejamos a continuación los links al curso TensorFlow from zero to hero, dictado por el Google's advocate Luaurence Moroney\n",
        "\n",
        "[Parte 1](https://youtu.be/KNAWp2S3w94)\n",
        "\n",
        "[Parte 2](https://youtu.be/bemDFpNooA8)\n",
        "\n",
        "[Parte 3](https://youtu.be/x_VrgWTKkiM)"
      ]
    }
  ]
}